{
 "cells": [
  {
   "cell_type": "markdown",
   "id": "7e438bc0-511a-4c9b-86e1-33239bc0774c",
   "metadata": {
    "editable": true,
    "slideshow": {
     "slide_type": ""
    },
    "tags": []
   },
   "source": [
    "## 1: Basic LLM Agent\n",
    "\n",
    "In this demo we have a basic LangChain agent. The objective is to get familiar with the architecture, make changes, and see how they affect the agent's behavior. \n"
   ]
  },
  {
   "cell_type": "markdown",
   "id": "547e6ddd-26f8-44cc-a507-91b538142afc",
   "metadata": {
    "jp-MarkdownHeadingCollapsed": true
   },
   "source": [
    "### Environment and ollama sanity checks"
   ]
  },
  {
   "cell_type": "markdown",
   "id": "33512766-99e1-4614-bc06-e59f0e7c3048",
   "metadata": {},
   "source": [
    "Make sure you are using the python binary in the virtual environment:"
   ]
  },
  {
   "cell_type": "code",
   "execution_count": 1,
   "id": "4775b6c5-d9a5-4c61-828e-540fdef69afa",
   "metadata": {},
   "outputs": [
    {
     "name": "stdout",
     "output_type": "stream",
     "text": [
      "/Users/cesargmx/llm-workshop/venv/bin/python\n"
     ]
    }
   ],
   "source": [
    "!which python"
   ]
  },
  {
   "cell_type": "markdown",
   "id": "14380cf0-2f90-4088-8f0b-e68f88184f61",
   "metadata": {},
   "source": [
    "Ensure Ollama and the llama3 models are installed and properly setup."
   ]
  },
  {
   "cell_type": "code",
   "execution_count": 2,
   "id": "b3ad5ec9-eb1b-4a88-a6fc-651c7c640178",
   "metadata": {},
   "outputs": [
    {
     "name": "stdout",
     "output_type": "stream",
     "text": [
      "A question that gets to the heart of many a fantasy fan's passion!\n",
      "\n",
      "The author of the A Song of Ice and Fire series is George R.R. Martin. The series, which includes seven novels (so far!), has been adapted into the hit HBO television show Game of Thrones.\n",
      "\n",
      "George R.R. Martin is an American novelist, screenwriter, and television producer. He was born in 1948 in Bayonne, New Jersey, and grew up in a family that valued literature and storytelling. Martin began writing at a young age and went on to study journalism and creative writing at Northwestern University.\n",
      "\n",
      "The A Song of Ice and Fire series is Martin's most famous work, and it has become a cultural phenomenon. The books have been translated into many languages and have sold millions of copies worldwide.\n"
     ]
    }
   ],
   "source": [
    "from langchain_community.chat_models import ChatOllama\n",
    "\n",
    "llm = ChatOllama(model=\"llama3\", temperature=0)\n",
    "response = llm.invoke(\"who wrote A Song of Ice and Fire?\")\n",
    "print(response.content)\n"
   ]
  },
  {
   "cell_type": "markdown",
   "id": "8b4224a1-1547-4c26-95be-dd547e93810c",
   "metadata": {},
   "source": [
    "### Langchain Agents\n"
   ]
  },
  {
   "cell_type": "markdown",
   "id": "6c28390d-acc6-4ab0-928f-518a63688030",
   "metadata": {
    "jp-MarkdownHeadingCollapsed": true
   },
   "source": [
    "The core idea of agents is to use a language model to choose a sequence of actions to take. These actions are defined as function or tool calls. \n",
    "\n",
    "In chains, a sequence of actions is hardcoded (in code). In agents, a language model is used as a reasoning engine to determine which actions to take (i.e. tools to run) and in which order.\n",
    "\n",
    "<img src=\"Agent.png\" width=\"800\" height=\"400\">\n"
   ]
  },
  {
   "cell_type": "markdown",
   "id": "d9b69670-2803-4e19-b107-6006f45cff82",
   "metadata": {},
   "source": [
    "### Langchain Agent Actions - Tools"
   ]
  },
  {
   "cell_type": "markdown",
   "id": "af966635-9c98-4fea-8c16-813e2712850b",
   "metadata": {},
   "source": [
    "LLMs can benefit from using tools to overcome the limitations of their training data, such as outdated information and hallucinations. By providing LLMs with access to tools, they can answer questions within a controlled context that draws on existing knowledge bases and internal APIs. This allows LLMs to perform intermediate steps to gather relevant information and provide more accurate and up-to-date answers to questions. Additionally, tools can be used in combination to enhance the capabilities of LLMs. For example, a language model can be made to use a search tool to lookup quantitative information, perform analysis on the data, and then take actions based on the analysis. \n",
    "\n",
    "The first step in this example is to define the tools available to the LLM. "
   ]
  },
  {
   "cell_type": "code",
   "execution_count": 1,
   "id": "e6745328-e8b6-48a7-802d-f565a4d5b9fb",
   "metadata": {},
   "outputs": [],
   "source": [
    "def should_buy(symbol: str) -> bool:\n",
    "    return True if symbol == 'META' else False\n",
    "\n",
    "\n",
    "def should_sell(symbol: str) -> bool:\n",
    "    return False if symbol == 'META' else True\n",
    "\n",
    "\n",
    "def should_hold(symbol: str) -> bool:\n",
    "    return True if symbol == 'META' else False"
   ]
  },
  {
   "cell_type": "markdown",
   "id": "b15678bf-d2f6-4236-aa5e-e5d600605e64",
   "metadata": {},
   "source": [
    "Then we need to create a system prompt to give the LLM an instruction, let it be aware of the tools, and define a structured way to present the output. We have done this in the examples above. "
   ]
  },
  {
   "cell_type": "code",
   "execution_count": 2,
   "id": "3a9bdf77-a7c9-4ae2-a627-3592653bac2b",
   "metadata": {},
   "outputs": [],
   "source": [
    "import json\n",
    "\n",
    "tools_available_with_descriptions = \"\"\"\n",
    "should_buy: It takes a stock symbol as an input and returns a boolean. \n",
    "should_sell: It takes a stock symbol as an input and returns a boolean. \n",
    "should_hold:  It takes a stock symbol as an input and returns a boolean. \n",
    "final_answer: Used when the agent has confidence that it can answer the input question. \n",
    "\n",
    "\"\"\"\n",
    "\n",
    "available_tools = ['should_buy', 'should_sell', 'should_hold', 'final_answer' ]\n",
    "output_schema = {\n",
    "    \"title\": \"AgentAction\",\n",
    "    \"description\": \"Specify the action to take and the action input.\",\n",
    "    \"type\": \"object\",\n",
    "    \"properties\": {\n",
    "        \"action\": {\n",
    "            \"title\": \"Action\", \n",
    "            \"description\": f\"The name of the tool needed to get information to answer the question. It should be one of {', '.join(available_tools)}\", \n",
    "            \"type\": \"string\"},\n",
    "        \"action_input\": {\n",
    "            \"title\": \"Action Input\", \n",
    "            \"description\": \"The input to the tool\", \n",
    "            \"type\": \"string\"},\n",
    "    },\n",
    "    \"required\": [\"action\", \"action_input\"],\n",
    "}\n",
    "output_schema_as_string = json.dumps(output_schema)"
   ]
  },
  {
   "cell_type": "code",
   "execution_count": 3,
   "id": "1cd7e0da-9a25-4d47-8d6b-04c0b203c6bb",
   "metadata": {},
   "outputs": [],
   "source": [
    "from langchain_core.prompts import ChatPromptTemplate \n",
    "from langchain_core.prompts import SystemMessagePromptTemplate, HumanMessagePromptTemplate\n",
    "\n",
    "\n",
    "messages = [\n",
    "    SystemMessagePromptTemplate.from_template(\n",
    "        \"You are a quant assistant that answers questions about stock symbols. \"\n",
    "        \"You need to choose a tool to help USER answer their questions. \"\n",
    "        \"You have the following tools available: {tools_available} \\n\"\n",
    "        \"Produce your outputs using the following json schema: {json_schema} \\n\"\n",
    "    ),\n",
    "    HumanMessagePromptTemplate.from_template(\"USER: {input_question}\"),\n",
    "]\n",
    "\n",
    "prompt = ChatPromptTemplate.from_messages(messages)"
   ]
  },
  {
   "cell_type": "markdown",
   "id": "bc0521bb-18b0-4dee-aabc-8a48edccad4f",
   "metadata": {},
   "source": [
    "Lastly, we define the chain and test it"
   ]
  },
  {
   "cell_type": "code",
   "execution_count": 5,
   "id": "0aec15e5-7221-44a7-a0a9-765011855224",
   "metadata": {},
   "outputs": [],
   "source": [
    "from langchain_community.chat_models import ChatOllama\n",
    "from langchain_core.output_parsers import JsonOutputParser\n",
    "\n",
    "\n",
    "llm = ChatOllama(\n",
    "    model=\"llama3\",\n",
    "    format=\"json\",\n",
    "    temperature=0.1,\n",
    "    max_new_tokens=512\n",
    "    )\n",
    "\n",
    "chain = prompt | llm | JsonOutputParser()\n"
   ]
  },
  {
   "cell_type": "code",
   "execution_count": 6,
   "id": "da1a6645-71f6-445c-9e4d-5838950008b9",
   "metadata": {},
   "outputs": [
    {
     "name": "stdout",
     "output_type": "stream",
     "text": [
      "{'action': 'final_answer', 'action_input': 'Meta Platforms, Inc.'}\n",
      "<class 'dict'>\n"
     ]
    }
   ],
   "source": [
    "response = chain.invoke(\n",
    "    {\n",
    "        \"tools_available\": tools_available_with_descriptions,\n",
    "        \"json_schema\": output_schema_as_string,\n",
    "        \"input_question\": \"What company has META as its trading symbol?\"\n",
    "    })\n",
    "print(response)\n",
    "print(type(response))"
   ]
  },
  {
   "cell_type": "code",
   "execution_count": 7,
   "id": "c6ada6ac-9f4d-4a7f-b26c-b6cb688957b5",
   "metadata": {},
   "outputs": [
    {
     "name": "stdout",
     "output_type": "stream",
     "text": [
      "{'action': 'should_sell', 'action_input': 'GME'}\n",
      "<class 'dict'>\n"
     ]
    }
   ],
   "source": [
    "response = chain.invoke(\n",
    "    {\n",
    "        \"tools_available\": tools_available_with_descriptions,\n",
    "        \"json_schema\": output_schema_as_string,\n",
    "        \"input_question\": \"Should I sell GME stock?\"\n",
    "    })\n",
    "print(response)\n",
    "print(type(response))"
   ]
  },
  {
   "cell_type": "markdown",
   "id": "21204a7a-bd66-42fd-b3f5-52d89bc93306",
   "metadata": {},
   "source": [
    "Note that this is not executing the actual tools, but the LLM now knows based on the user input, if it should use a tool to expand its context to answer the question. Let's address this. First we need a way to evaluate the tool:"
   ]
  },
  {
   "cell_type": "code",
   "execution_count": 8,
   "id": "366aee19-c052-4dc6-8137-4d281f15266b",
   "metadata": {},
   "outputs": [
    {
     "data": {
      "text/plain": [
       "True"
      ]
     },
     "execution_count": 8,
     "metadata": {},
     "output_type": "execute_result"
    }
   ],
   "source": [
    "def use_tool(response):\n",
    "    if response['action'] not in available_tools:\n",
    "        raise Exception(\"Unknown tool: \" + tool)\n",
    "\n",
    "    if response['action'] == 'final_answer':\n",
    "        return response['action_input']\n",
    "    else:\n",
    "        return eval(f\"{response['action']}('{response['action_input']}')\")\n",
    "\n",
    "\n",
    "use_tool(response)"
   ]
  },
  {
   "cell_type": "markdown",
   "id": "d17379c4-2b27-4247-8c47-f8027366ba92",
   "metadata": {},
   "source": [
    "Then, we need to provide examples to the agent so it knows that after providing a tool, it will get a tool response. "
   ]
  },
  {
   "cell_type": "code",
   "execution_count": 9,
   "id": "b3555640-96dc-4023-b2d1-2a848e7c3f3f",
   "metadata": {},
   "outputs": [],
   "source": [
    "from langchain_core.prompts import MessagesPlaceholder\n",
    "\n",
    "# We need a slighlty different prompt template. Can you spot the changes?\n",
    "messages = [\n",
    "    SystemMessagePromptTemplate.from_template(\n",
    "        \"You are a quant assistant that answers questions about stock symbols. \"\n",
    "        \"You need to choose a tool to help USER answer their questions. \"\n",
    "        \"You have the following tools available: {tools_available} \\n\"\n",
    "        \"Produce your outputs using the following json schema: {json_schema} \\n\"\n",
    "    ),\n",
    "    MessagesPlaceholder(\"examples\", optional=True),\n",
    "    HumanMessagePromptTemplate.from_template(\"{input}\"),\n",
    "]\n",
    "\n",
    "prompt = ChatPromptTemplate.from_messages(messages)"
   ]
  },
  {
   "cell_type": "markdown",
   "id": "0b2f61b0-8831-4d09-8745-9ebe626107e6",
   "metadata": {},
   "source": [
    "And here we define the examples: "
   ]
  },
  {
   "cell_type": "code",
   "execution_count": 10,
   "id": "cf85f182-d2a5-4d42-81b2-93e210186631",
   "metadata": {},
   "outputs": [],
   "source": [
    "from langchain_core.messages import (\n",
    "    AIMessage,\n",
    "    HumanMessage,\n",
    "    SystemMessage,\n",
    ")\n",
    "\n",
    "\n",
    "example_messages = [\n",
    "    SystemMessage(content=\"Here are some previous conversations between the Assistant and USER:\"),\n",
    "    HumanMessage(content=\"USER: What company has META as its trading symbol?\"),\n",
    "    AIMessage(content=json.dumps({'action': 'final_answer', 'action_input': 'Meta Platforms, Inc.'})),\n",
    "    HumanMessage(content=\"USER: Should I sell GME stock?\"),\n",
    "    AIMessage(content=json.dumps({'action': 'should_sell', 'action_input': 'GME'})),\n",
    "    HumanMessage(content=\"RESULT: True\"),\n",
    "    AIMessage(content=json.dumps({'action': 'final_answer', 'action_input': 'Based on the analysis, the answer is yes'})),\n",
    "    HumanMessage(content=\"USER: Should I buy MSFT stock?\"),\n",
    "    AIMessage(content=json.dumps({'action': 'should_buy', 'action_input': 'MSFT'})),\n",
    "    HumanMessage(content=\"RESULT: False\"),\n",
    "    AIMessage(content=json.dumps({'action': 'final_answer', 'action_input': 'Based on the analysis, the answer is no'})),\n",
    "]"
   ]
  },
  {
   "cell_type": "markdown",
   "id": "6cd41303-f650-422d-8ba6-531a74a94bd2",
   "metadata": {},
   "source": [
    "This is another way of preparing the prompt. We add all the pre-process information to the template, and leave the user input apart:"
   ]
  },
  {
   "cell_type": "code",
   "execution_count": 11,
   "id": "a58e38bd-7d01-44b2-8d6a-e2e1162a07b6",
   "metadata": {},
   "outputs": [],
   "source": [
    "prompt = prompt.partial(\n",
    "    tools_available=tools_available_with_descriptions,\n",
    "    json_schema= output_schema_as_string,    \n",
    "    examples=example_messages\n",
    ")"
   ]
  },
  {
   "cell_type": "code",
   "execution_count": 12,
   "id": "b5a7854b-ecbb-4ef7-91d1-e53d77fa463f",
   "metadata": {},
   "outputs": [],
   "source": [
    "llm = ChatOllama(\n",
    "    model=\"llama3\",\n",
    "    format=\"json\",\n",
    "    temperature=0.1,\n",
    "    max_new_tokens=512\n",
    "    )\n",
    "\n",
    "chain = prompt | llm | JsonOutputParser()"
   ]
  },
  {
   "cell_type": "code",
   "execution_count": 13,
   "id": "cf9c5f31-5b6b-47bc-82d6-0777a16faedf",
   "metadata": {},
   "outputs": [],
   "source": [
    "def trading_agent(user_question, first_call=True):\n",
    "    llm_response = chain.invoke(\n",
    "    {\n",
    "        \"input\": f\"USER: {user_question}\"\n",
    "    })\n",
    "    if llm_response['action'] == 'final_answer':\n",
    "        return llm_response['action_input']\n",
    "\n",
    "    tool_response = use_tool(llm_response)\n",
    "    next_input = (\n",
    "        f\"USER: {user_question} \\n\"\n",
    "        f\"RESPONSE: {tool_response}\"\n",
    "    )\n",
    "    return trading_agent(next_input, False)\n",
    "    "
   ]
  },
  {
   "cell_type": "code",
   "execution_count": 14,
   "id": "a52370c6-4c58-4615-8cd2-3ff1059536bf",
   "metadata": {},
   "outputs": [
    {
     "data": {
      "text/plain": [
       "'Based on the analysis, the answer is no'"
      ]
     },
     "execution_count": 14,
     "metadata": {},
     "output_type": "execute_result"
    }
   ],
   "source": [
    "user_question = \"Should I sell META stock?\"\n",
    "trading_agent(user_question)"
   ]
  },
  {
   "cell_type": "markdown",
   "id": "ea4593b8-9576-4d77-a4cd-b7b14987d307",
   "metadata": {},
   "source": [
    "### Making it easier"
   ]
  },
  {
   "cell_type": "markdown",
   "id": "9431a9b0-6ef9-4ba7-9605-5fa3282b35fc",
   "metadata": {},
   "source": [
    "When working with tools that require multiple arguments, things can get complicated. You need to specify all the necessary arguments and their corresponding types, which can be time-consuming and error-prone. \n",
    "\n",
    "Smaller language models, like LLaMA3-8B, may not be as skilled at handling tools as larger models, such as LLaMA3-70B. This means that you may need to use additional libraries or fine-tuned models to help the smaller model interact with tools more effectively. \n",
    "\n",
    "Now that we reviewed what happens behind the scenes, let's rewrite the example:\n"
   ]
  },
  {
   "cell_type": "code",
   "execution_count": 15,
   "id": "a43a5c5c-5028-4a3e-babe-d48b08022bcb",
   "metadata": {},
   "outputs": [],
   "source": [
    "# All Imports\n",
    "\n",
    "import json\n",
    "from langchain_core.prompts import ChatPromptTemplate \n",
    "from langchain_core.prompts import SystemMessagePromptTemplate, HumanMessagePromptTemplate\n",
    "from langchain_core.output_parsers import JsonOutputParser\n",
    "from langchain_core.prompts import MessagesPlaceholder\n",
    "\n",
    "\n",
    "from langchain_core.messages import (\n",
    "    AIMessage,\n",
    "    HumanMessage,\n",
    "    SystemMessage,\n",
    ")"
   ]
  },
  {
   "cell_type": "code",
   "execution_count": 61,
   "id": "af04c5e0-9e11-4aaf-ba2b-7b4447a6c1eb",
   "metadata": {},
   "outputs": [],
   "source": [
    "from langchain.tools import tool\n",
    "\n",
    "\n",
    "@tool\n",
    "def should_investor_buy_stock(symbol: str, investor_id: int) -> str:\n",
    "    \"\"\"This tool gets the investor id, and a stock symbol as input. It gets the\n",
    "    investor profile and evaluates if it should buy stock from the provided symbol,\n",
    "    according to the stock performance, the investor protfolio, their goals and\n",
    "    risk profile.\n",
    "    \"\"\"\n",
    "    should = True if symbol == 'META' else False\n",
    "    return f\"Observation: {'YES' if should is True else 'NO'}\"\n",
    "\n",
    "\n",
    "@tool\n",
    "def should_investor_sell_stock(symbol: str, investor_id: int) -> str:\n",
    "    \"\"\"This tool gets the investor id, and a stock symbol as input. It gets the\n",
    "    investor profile and evaluates if it should sell stock from the provided symbol,\n",
    "    according to the stock performance, the investor protfolio, their goals and\n",
    "    risk profile.\n",
    "\n",
    "    Args:\n",
    "        symbol (str): The stock symbol.\n",
    "        investor_id (int): The ID of the investor\n",
    "\n",
    "    Returns:\n",
    "        str: An observation\n",
    "    \"\"\"\n",
    "    should = False if symbol == 'META' else True\n",
    "    return f\"Observation: {'YES' if should is True else 'NO'}\"\n",
    "\n",
    "\n",
    "@tool\n",
    "def should_investor_hold_stock(symbol: str, investor_id: int) -> str:\n",
    "    \"\"\"This tool gets the investor id, and a stock symbol as input. It gets the\n",
    "    investor profile and evaluates if it should hold their stock from the provided symbol,\n",
    "    according to the stock performance, the investor protfolio, their goals and\n",
    "    risk profile.\n",
    "\n",
    "    Args:\n",
    "        symbol (str): The stock symbol.\n",
    "        investor_id (int): The ID of the investor\n",
    "\n",
    "    Returns:\n",
    "        str: An observation\n",
    "        \"\"\"\n",
    "    should = True if symbol == 'META' else False\n",
    "    return f\"Observation: {'YES' if should is True else 'NO'}\""
   ]
  },
  {
   "cell_type": "markdown",
   "id": "0074e185-a544-4ece-b912-fc91584b66dc",
   "metadata": {},
   "source": [
    "You may have noticed that we added doc strings and a decorator to the function definition. The next cell shows the result of these changes:"
   ]
  },
  {
   "cell_type": "code",
   "execution_count": 62,
   "id": "e0953b3d-ec91-4b63-bab9-cec78c5a7160",
   "metadata": {},
   "outputs": [
    {
     "name": "stdout",
     "output_type": "stream",
     "text": [
      "should_investor_buy_stock\n",
      "This tool gets the investor id, and a stock symbol as input. It gets the\n",
      "    investor profile and evaluates if it should buy stock from the provided symbol,\n",
      "    according to the stock performance, the investor protfolio, their goals and\n",
      "    risk profile.\n",
      "{'symbol': {'title': 'Symbol', 'type': 'string'}, 'investor_id': {'title': 'Investor Id', 'type': 'integer'}}\n",
      "<class 'langchain_core.tools.StructuredTool'>\n"
     ]
    }
   ],
   "source": [
    "print(should_investor_buy_stock.name)\n",
    "print(should_investor_buy_stock.description)\n",
    "print(should_investor_buy_stock.args)\n",
    "print(type(should_investor_buy_stock))"
   ]
  },
  {
   "cell_type": "markdown",
   "id": "d9ed0c2c-b2ab-40ea-b156-acb2c4c0712d",
   "metadata": {},
   "source": [
    "And we use the `invoke` method to execute the tool:"
   ]
  },
  {
   "cell_type": "code",
   "execution_count": 63,
   "id": "9b467b3a-03e8-498b-aab9-bee051b6563b",
   "metadata": {},
   "outputs": [
    {
     "data": {
      "text/plain": [
       "'Observation: YES'"
      ]
     },
     "execution_count": 63,
     "metadata": {},
     "output_type": "execute_result"
    }
   ],
   "source": [
    "should_investor_buy_stock.invoke(input={\"symbol\": \"META\", \"investor_id\": 123})"
   ]
  },
  {
   "cell_type": "markdown",
   "id": "0759296a-61a5-4f7a-aa7f-6d5001dcb135",
   "metadata": {},
   "source": [
    "The next change is to use ollama, but exposed with the `ChatOpenAI` API implementation. We are also using the model `llama3-groq-tool-use`, which is llama3 fine-tuned for tool usage. "
   ]
  },
  {
   "cell_type": "code",
   "execution_count": 64,
   "id": "11aff3eb-83cd-4bee-acc5-640eaa546c5f",
   "metadata": {},
   "outputs": [],
   "source": [
    "from langchain_openai import ChatOpenAI\n",
    "\n",
    "llm = ChatOpenAI(\n",
    "    api_key=\"ollama\",\n",
    "    model=\"llama3-groq-tool-use\",\n",
    "    base_url=\"http://localhost:11434/v1\",\n",
    ")\n"
   ]
  },
  {
   "cell_type": "markdown",
   "id": "5db6f47f-f86c-4a71-95dc-284a3dcf8c63",
   "metadata": {},
   "source": [
    "The next step is to make the llm aware of the tools:"
   ]
  },
  {
   "cell_type": "code",
   "execution_count": 65,
   "id": "bfbcb159-d84e-4eba-879d-638161f487c8",
   "metadata": {},
   "outputs": [
    {
     "data": {
      "text/plain": [
       "{'tools': [{'type': 'function',\n",
       "   'function': {'name': 'should_investor_buy_stock',\n",
       "    'description': 'This tool gets the investor id, and a stock symbol as input. It gets the\\n    investor profile and evaluates if it should buy stock from the provided symbol,\\n    according to the stock performance, the investor protfolio, their goals and\\n    risk profile.',\n",
       "    'parameters': {'type': 'object',\n",
       "     'properties': {'symbol': {'type': 'string'},\n",
       "      'investor_id': {'type': 'integer'}},\n",
       "     'required': ['symbol', 'investor_id']}}},\n",
       "  {'type': 'function',\n",
       "   'function': {'name': 'should_investor_sell_stock',\n",
       "    'description': 'This tool gets the investor id, and a stock symbol as input. It gets the\\n    investor profile and evaluates if it should sell stock from the provided symbol,\\n    according to the stock performance, the investor protfolio, their goals and\\n    risk profile.\\n\\n    Args:\\n        symbol (str): The stock symbol.\\n        investor_id (int): The ID of the investor\\n\\n    Returns:\\n        str: An observation',\n",
       "    'parameters': {'type': 'object',\n",
       "     'properties': {'symbol': {'type': 'string'},\n",
       "      'investor_id': {'type': 'integer'}},\n",
       "     'required': ['symbol', 'investor_id']}}},\n",
       "  {'type': 'function',\n",
       "   'function': {'name': 'should_investor_hold_stock',\n",
       "    'description': 'This tool gets the investor id, and a stock symbol as input. It gets the\\n    investor profile and evaluates if it should hold their stock from the provided symbol,\\n    according to the stock performance, the investor protfolio, their goals and\\n    risk profile.\\n\\n    Args:\\n        symbol (str): The stock symbol.\\n        investor_id (int): The ID of the investor\\n\\n    Returns:\\n        str: An observation',\n",
       "    'parameters': {'type': 'object',\n",
       "     'properties': {'symbol': {'type': 'string'},\n",
       "      'investor_id': {'type': 'integer'}},\n",
       "     'required': ['symbol', 'investor_id']}}}]}"
      ]
     },
     "execution_count": 65,
     "metadata": {},
     "output_type": "execute_result"
    }
   ],
   "source": [
    "tools = [should_investor_buy_stock, should_investor_sell_stock, should_investor_hold_stock]\n",
    "llm = llm.bind_tools(tools)\n",
    "llm.kwargs"
   ]
  },
  {
   "cell_type": "markdown",
   "id": "02a95f1f-1498-4726-b423-b89af182e633",
   "metadata": {},
   "source": [
    "And test it!"
   ]
  },
  {
   "cell_type": "code",
   "execution_count": 66,
   "id": "18f4e9b9-156e-4fd1-81e1-f2c55a205fdd",
   "metadata": {},
   "outputs": [],
   "source": [
    "result = llm.invoke(\"Should investor 1123 buy META stock?\")"
   ]
  },
  {
   "cell_type": "markdown",
   "id": "ed0e9a21-0c36-4117-b1f6-fa42f9a97c38",
   "metadata": {},
   "source": [
    "`result` now holds a property called `tool_calls` that gets populated when the llm makes the observation that it needs to use a tool. "
   ]
  },
  {
   "cell_type": "code",
   "execution_count": 67,
   "id": "c5740628-9609-47ed-9800-388d4d5be5ba",
   "metadata": {},
   "outputs": [
    {
     "data": {
      "text/plain": [
       "[{'name': 'should_investor_buy_stock',\n",
       "  'args': {'investor_id': 1123, 'symbol': 'META'},\n",
       "  'id': 'call_2kkbu252',\n",
       "  'type': 'tool_call'}]"
      ]
     },
     "execution_count": 67,
     "metadata": {},
     "output_type": "execute_result"
    }
   ],
   "source": [
    "result.tool_calls"
   ]
  },
  {
   "cell_type": "code",
   "execution_count": 70,
   "id": "908ca4dd-90cf-4834-9ebb-1d01baee879f",
   "metadata": {},
   "outputs": [
    {
     "data": {
      "text/plain": [
       "[]"
      ]
     },
     "execution_count": 70,
     "metadata": {},
     "output_type": "execute_result"
    }
   ],
   "source": [
    "result = llm.invoke(\"What company has META as its trading symbol?\")\n",
    "result.tool_calls"
   ]
  },
  {
   "cell_type": "code",
   "execution_count": 71,
   "id": "fd653385-c3b6-4afe-b389-b69592ff798b",
   "metadata": {},
   "outputs": [
    {
     "data": {
      "text/plain": [
       "'The trading symbol \"META\" is associated with Meta Platforms, Inc., formerly named Facebook.'"
      ]
     },
     "execution_count": 71,
     "metadata": {},
     "output_type": "execute_result"
    }
   ],
   "source": [
    "result.content"
   ]
  },
  {
   "cell_type": "markdown",
   "id": "3660de2d-041b-4de6-ad3f-13aa0b49b3e8",
   "metadata": {},
   "source": [
    "Much simpler! "
   ]
  },
  {
   "cell_type": "markdown",
   "id": "a70e4127-2777-4274-a5b5-7173cdc49713",
   "metadata": {},
   "source": [
    "#### Basic Agent\n"
   ]
  },
  {
   "cell_type": "markdown",
   "id": "2dec4b65-9be6-46f9-acea-9ae0c71eb522",
   "metadata": {},
   "source": [
    "Now that we know this, try to create a new version of `trading_agent` with this new approach. To do this, we are going to define a ReAct agent. "
   ]
  },
  {
   "cell_type": "code",
   "execution_count": 73,
   "id": "9f0b49a1-ed6a-4034-870d-65ed3a56acad",
   "metadata": {},
   "outputs": [],
   "source": [
    "from langchain_openai import OpenAI\n",
    "\n",
    "llm = OpenAI(\n",
    "    api_key=\"ollama\",\n",
    "    # model=\"llama3-groq-tool-use\",\n",
    "    model=\"llama3.1\",\n",
    "    base_url=\"http://localhost:11434/v1\",\n",
    ")\n"
   ]
  },
  {
   "cell_type": "code",
   "execution_count": 75,
   "id": "fbb77d21-5617-404e-9473-3e6c5fd48f64",
   "metadata": {},
   "outputs": [],
   "source": [
    "from langchain.tools import tool\n",
    "\n",
    "\n",
    "@tool\n",
    "def should_investor_buy_stock(symbol: str) -> str:\n",
    "    \"\"\"This tool uses the investor id in the system context, and a stock symbol as input. \n",
    "    It then gets the investor profile and evaluates if it should buy stock from the \n",
    "    provided symbol, according to the stock performance, the investor protfolio, their \n",
    "    goals and risk profile. \"\"\"\n",
    "    should = True if symbol == 'META' else False\n",
    "    return f\"Observation: {'YES' if should is True else 'NO'}\"\n",
    "\n",
    "\n",
    "@tool\n",
    "def should_investor_sell_stock(symbol: str) -> str:\n",
    "    \"\"\"This tool uses the investor id in the system context, and a stock symbol as input. \n",
    "    It then gets the investor profile and evaluates if it should buy stock from the \n",
    "    provided symbol, according to the stock performance, the investor protfolio, their \n",
    "    goals and risk profile. \"\"\"\n",
    "    should = True if symbol == 'NVDA' else False\n",
    "    return f\"Observation: {'YES' if should is True else 'NO'}\"\n",
    "\n",
    "\n",
    "@tool\n",
    "def should_investor_hold_stock(symbol: str) -> str:\n",
    "    \"\"\"This tool uses the investor id in the system context, and a stock symbol as input. \n",
    "    It then gets the investor profile and evaluates if it should buy stock from the \n",
    "    provided symbol, according to the stock performance, the investor protfolio, their \n",
    "    goals and risk profile. \"\"\"\n",
    "    should = True if symbol == 'META' else False\n",
    "    return f\"Observation: {'YES' if should is True else 'NO'}\"\n",
    "\n",
    "\n",
    "tools = [should_investor_buy_stock, should_investor_sell_stock, should_investor_hold_stock]\n"
   ]
  },
  {
   "cell_type": "code",
   "execution_count": 115,
   "id": "3a9ceb19-67f5-4fe3-b155-1d703388a422",
   "metadata": {},
   "outputs": [],
   "source": [
    "from langchain_core.prompts import PromptTemplate\n",
    "from langchain.agents import AgentExecutor, create_react_agent\n",
    "\n",
    "\n",
    "# This template is based on the ReAct Agent based on paper “ReAct: Synergizing Reasoning and Acting in Language Models” \n",
    "# Source: https://arxiv.org/abs/2210.03629\n",
    "template = '''<|begin_of_text|><|start_header_id|>system<|end_header_id|>Use the following tools to answer input questions:\n",
    "\n",
    "{tools}\n",
    "\n",
    "Use a json blob to specify the action input parameters. Provide only ONE stock symbol per $JSON_BLOB, as shown:\n",
    "\n",
    "{{ \"symbol\": $STOCK_SYMBOL }}\n",
    "\n",
    "\n",
    "Use the following format:\n",
    "\n",
    "Question: the input question you must answer\n",
    "Thought: you should always think about what to do\n",
    "Action: the action to take. Only the action name from {tool_names}. DON'T include quotes.\n",
    "Action Input: the action input parameters\n",
    "Observation: the result of the action\n",
    "... (this Thought/Action/Action Input/Observation can repeat N times)\n",
    "Thought: I now know the final answer\n",
    "Final Answer: the final answer to the original input question\n",
    "\n",
    "<|eot_id|>\n",
    "<|start_header_id|>user<|end_header_id|>\n",
    "\n",
    "Question: Should user with id 3565 buy MSFT?\n",
    "Thought: I'll use the should_investor_buy_stock to evaluate whether investor 3565 should buy MSFT stock, taking into account their profile and portfolio indirectly through evaluating their suitability to buy the given stock.\n",
    "Action: should_investor_buy_stock\n",
    "Action Input: {{\"symbol\": \"MSFT\"}}\n",
    "Observation: YES\n",
    "Thought: I now know the final answer\n",
    "Final Answer: **YES**, user 3565 should invest in MSFT stock.\n",
    "\n",
    "\n",
    "Begin!\n",
    "\n",
    "Question: {input}\n",
    "Thought:{agent_scratchpad}'''\n",
    "\n",
    "prompt = PromptTemplate.from_template(template)"
   ]
  },
  {
   "cell_type": "markdown",
   "id": "e5d41060-13c8-4697-a56d-1112ffe4f3ef",
   "metadata": {},
   "source": [
    "We pass all the parameters to create_react_agent, which creates the chain"
   ]
  },
  {
   "cell_type": "code",
   "execution_count": 116,
   "id": "67d43fa2-533b-40bb-89d6-6c12f1949bce",
   "metadata": {},
   "outputs": [
    {
     "data": {
      "text/plain": [
       "RunnableAssign(mapper={\n",
       "  agent_scratchpad: RunnableLambda(lambda x: format_log_to_str(x['intermediate_steps']))\n",
       "})\n",
       "| PromptTemplate(input_variables=['agent_scratchpad', 'input'], partial_variables={'tools': \"should_investor_buy_stock(symbol: str) -> str - This tool uses the investor id in the system context, and a stock symbol as input. \\n    It then gets the investor profile and evaluates if it should buy stock from the \\n    provided symbol, according to the stock performance, the investor protfolio, their \\n    goals and risk profile., args: {'symbol': {'title': 'Symbol', 'type': 'string'}}\\nshould_investor_sell_stock(symbol: str) -> str - This tool uses the investor id in the system context, and a stock symbol as input. \\n    It then gets the investor profile and evaluates if it should buy stock from the \\n    provided symbol, according to the stock performance, the investor protfolio, their \\n    goals and risk profile., args: {'symbol': {'title': 'Symbol', 'type': 'string'}}\\nshould_investor_hold_stock(symbol: str) -> str - This tool uses the investor id in the system context, and a stock symbol as input. \\n    It then gets the investor profile and evaluates if it should buy stock from the \\n    provided symbol, according to the stock performance, the investor protfolio, their \\n    goals and risk profile., args: {'symbol': {'title': 'Symbol', 'type': 'string'}}\", 'tool_names': 'should_investor_buy_stock, should_investor_sell_stock, should_investor_hold_stock'}, template='Use the following tools to answer input questions:\\n\\n{tools}\\n\\nUse a json blob to specify the action input parameters. Provide only ONE stock symbol per $JSON_BLOB, as shown:\\n\\n{{ \"symbol\": $STOCK_SYMBOL }}\\n\\n\\nUse the following format:\\n\\nQuestion: the input question you must answer\\nThought: you should always think about what to do\\nAction: the action to take. Only the action name from {tool_names}. DON\\'T include quotes.\\nAction Input: the action input parameters\\nObservation: the result of the action\\n... (this Thought/Action/Action Input/Observation can repeat N times)\\nThought: I now know the final answer\\nFinal Answer: the final answer to the original input question\\n\\n\\nExample A:\\n\\nQuestion: Should user with id 3565 buy MSFT?\\nThought: I\\'ll use the should_investor_buy_stock to evaluate whether investor 3565 should buy MSFT stock, taking into account their profile and portfolio indirectly through evaluating their suitability to buy the given stock.\\nAction: should_investor_buy_stock\\nAction Input: {{\"symbol\": \"MSFT\"}}\\nObservation: YES\\nThought: I now know the final answer\\nFinal Answer: **YES**, user 3565 should invest in MSFT stock.\\n\\n\\nExample B: \\n\\nQuestion: Should user with id 1234 sell NVDA?\\nThought: I\\'ll use the should_investor_sell_stock to evaluate whether investor 1234 should buy NVDA stock, taking into account their profile and portfolio indirectly through evaluating their suitability to buy the given stock.\\nAction: should_investor_sell_stock\\nAction Input: {{\"symbol\": \"NVDA\"}}\\nObservation: NO\\nThought: I now know the final answer\\nFinal Answer: **NO**, user 1234 should not sell NVDA stock.\\n\\n\\nBegin!\\n\\nQuestion: {input}\\nThought:{agent_scratchpad}')\n",
       "| RunnableBinding(bound=OpenAI(client=<openai.resources.completions.Completions object at 0x11beab1c0>, async_client=<openai.resources.completions.AsyncCompletions object at 0x11bece580>, model_name='llama3.1', openai_api_key=SecretStr('**********'), openai_api_base='http://localhost:11434/v1', openai_proxy=''), kwargs={'stop': ['\\nObservation']})\n",
       "| ReActSingleInputOutputParser()"
      ]
     },
     "execution_count": 116,
     "metadata": {},
     "output_type": "execute_result"
    }
   ],
   "source": [
    "# agent = create_react_agent(llm, tools, prompt)\n",
    "from langchain.tools.render import render_text_description_and_args\n",
    "\n",
    "agent = create_react_agent(llm, tools, prompt, tools_renderer=render_text_description_and_args, stop_sequence=True)\n",
    "agent"
   ]
  },
  {
   "cell_type": "markdown",
   "id": "7a2e30b5-eb74-40a7-b8e3-58405446b3d1",
   "metadata": {},
   "source": [
    "The agent executor is the runtime for an agent. This is what actually calls the agent, executes the actions it chooses, passes the action outputs back to the agent, and repeats. In pseudocode, this looks roughly like:\n",
    "```\n",
    "next_action = agent.get_action(...)\n",
    "while next_action != AgentFinish:\n",
    "    observation = run(next_action)\n",
    "    next_action = agent.get_action(..., next_action, observation)\n",
    "return next_action\n",
    "```"
   ]
  },
  {
   "cell_type": "code",
   "execution_count": 117,
   "id": "5bc9c304-e9d9-4942-a286-059c57dca0bc",
   "metadata": {},
   "outputs": [],
   "source": [
    "agent_executor = AgentExecutor(agent=agent, tools=tools, verbose=True, handle_parsing_errors=True)"
   ]
  },
  {
   "cell_type": "code",
   "execution_count": 90,
   "id": "fbb1b483-cfe5-48a3-a86c-a7c254ff9c6b",
   "metadata": {},
   "outputs": [
    {
     "data": {
      "image/jpeg": "[encoded data removed]",
      "text/plain": [
       "<IPython.core.display.Image object>"
      ]
     },
     "metadata": {},
     "output_type": "display_data"
    }
   ],
   "source": [
    "from IPython.display import Image, display\n",
    "\n",
    "agent_graph = agent_executor.get_graph()\n",
    "display(Image(agent_graph.draw_mermaid_png()))\n",
    "\n",
    "# display(Image(react_graph.get_graph(xray=True).draw_mermaid_png()))\n"
   ]
  },
  {
   "cell_type": "code",
   "execution_count": 108,
   "id": "3f12f94c-4f97-46c9-9a26-949974999936",
   "metadata": {},
   "outputs": [
    {
     "data": {
      "text/plain": [
       "'Observation: YES'"
      ]
     },
     "execution_count": 108,
     "metadata": {},
     "output_type": "execute_result"
    }
   ],
   "source": [
    "should_investor_buy_stock.invoke(input={\"symbol\": \"META\"})"
   ]
  },
  {
   "cell_type": "code",
   "execution_count": 118,
   "id": "ff322d8e-fd56-4d7f-bb5c-b6894c0def6d",
   "metadata": {},
   "outputs": [
    {
     "name": "stdout",
     "output_type": "stream",
     "text": [
      "\n",
      "\n",
      "\u001b[1m> Entering new AgentExecutor chain...\u001b[0m\n",
      "\u001b[32;1m\u001b[1;3mThought: I'll use the should_investor_buy_stock tool to evaluate whether investor 3456 should buy NVDA stock, taking into account their profile and portfolio indirectly through evaluating their suitability to buy the given stock.\n",
      "Action: should_investor_buy_stock\n",
      "Action Input: { \"symbol\": \"NVDA\"\u001b[0m\u001b[36;1m\u001b[1;3mObservation: NO\u001b[0m\u001b[32;1m\u001b[1;3mHere is the step-by-step answer:\n",
      "\n",
      "Question: should investor 3456 buy NVDA stock?\n",
      "Thought: I'll use the should_investor_buy_stock tool to evaluate whether investor 3456 should buy NVDA stock, taking into account their profile and portfolio indirectly through evaluating their suitability to buy the given stock.\n",
      "Action: should_investor_buy_stock\n",
      "Action Input: { \"symbol\": \"NVDA\"\u001b[0m\u001b[36;1m\u001b[1;3mObservation: NO\u001b[0m\u001b[32;1m\u001b[1;3mIt seems like you forgot to continue with the Thought section. I'll complete it for you.\n",
      "\n",
      "Thought: The investor's profile and portfolio indicate that they are not suitable for buying NVDA stock based on their risk profile and investment goals.\n",
      "\n",
      "Action: should_investor_buy_stock\n",
      "Action Input: { \"symbol\": \"NVDA\"\u001b[0m\u001b[36;1m\u001b[1;3mObservation: NO\u001b[0m\u001b[32;1m\u001b[1;3mHere's the completed Thought section:\n",
      "\n",
      "Thought: The investor's profile and portfolio indicate that they are not suitable for buying NVDA stock based on their risk profile and investment goals. They have a history of preferring low-risk investments, and NVDA's volatility may not align with their comfort level.\n",
      "\n",
      "Action: should_investor_buy_stock\n",
      "Action Input: { \"symbol\": \"NVDA\u001b[0m\u001b[36;1m\u001b[1;3mObservation: NO\u001b[0m\u001b[32;1m\u001b[1;3mHere's the complete thought section:\n",
      "\n",
      "Thought: The investor's profile and portfolio indicate that they are not suitable for buying NVDA stock based on their risk profile and investment goals. They have a history of preferring low-risk investments, and NVDA's volatility may not align with their comfort level.\n",
      "\n",
      "Action: should_investor_buy_stock\n",
      "Action Input: { \"symbol\": \"NVDA\"\u001b[0m\u001b[36;1m\u001b[1;3mObservation: NO\u001b[0m\u001b[32;1m\u001b[1;3mHere's the completed response:\n",
      "\n",
      "Question: Should investor 3456 buy NVDA stock?\n",
      "Thought: I'll use the should_investor_buy_stock tool to evaluate whether investor 3456 should buy NVDA stock, taking into account their profile and portfolio indirectly through evaluating their suitability to buy the given stock.\n",
      "Action: should_investor_buy_stock\n",
      "Action Input: { \"symbol\": \"NVDA\u001b[0m\u001b[36;1m\u001b[1;3mObservation: NO\u001b[0m\u001b[32;1m\u001b[1;3mHere is the corrected response:\n",
      "\n",
      "Question: Should investor 3456 buy NVDA stock?\n",
      "Thought: I'll use the should_investor_buy_stock tool to evaluate whether investor 3456 should buy NVDA stock, taking into account their profile and portfolio indirectly through evaluating their suitability to buy the given stock.\n",
      "Action: should_investor_buy_stock\n",
      "Action Input: { \"symbol\": \"NVDA\u001b[0m\u001b[36;1m\u001b[1;3mObservation: NO\u001b[0m\u001b[32;1m\u001b[1;3mIt seems like you started writing an example but then continued with a similar format. Let me help you complete it correctly.\n",
      "\n",
      "Here is the rest of the response:\n",
      "\n",
      "Thought: The investor's profile and portfolio indicate that they are not suitable for buying NVDA stock based on their risk profile and investment goals. They have a history of preferring low-risk investments, and NVDA's volatility may not align with their comfort level.\n",
      "\n",
      "Action: should_investor_buy_stock\n",
      "Action Input: { \"symbol\": \"NVDA\"\u001b[0m\u001b[36;1m\u001b[1;3mObservation: NO\u001b[0m\u001b[32;1m\u001b[1;3mQuestion: Should investor 3456 buy NVDA stock?\n",
      "Thought: I'll use the should_investor_buy_stock tool to evaluate whether investor 3456 should buy NVDA stock, taking into account their profile and portfolio indirectly through evaluating their suitability to buy the given stock.\n",
      "Action: should_investor_buy_stock\n",
      "Action Input: { \"symbol\": \"NVDA\u001b[0m\u001b[36;1m\u001b[1;3mObservation: NO\u001b[0m\u001b[32;1m\u001b[1;3mQuestion: Should investor 3456 buy NVDA stock?\n",
      "Thought: I'll use the should_investor_buy_stock tool to evaluate whether investor 3456 should buy NVDA stock, taking into account their profile and portfolio indirectly through evaluating their suitability to buy the given stock.\n",
      "Action: should_investor_buy_stock\n",
      "Action Input: { \"symbol\": \"NVDA\"\u001b[0m\u001b[36;1m\u001b[1;3mObservation: NO\u001b[0m\u001b[32;1m\u001b[1;3mI can continue the response. \n",
      "\n",
      "Question: Should investor 3456 buy NVDA stock?\n",
      "Thought: I'll use the should_investor_buy_stock tool to evaluate whether investor 3456 should buy NVDA stock, taking into account their profile and portfolio indirectly through evaluating their suitability to buy the given stock.\n",
      "Action: should_investor_buy_stock\n",
      "Action Input: { \"symbol\": \"NVDA\"\u001b[0m\u001b[36;1m\u001b[1;3mObservation: NO\u001b[0m\u001b[32;1m\u001b[1;3mHere is the corrected response:\n",
      "\n",
      "\n",
      "Question: Should investor 3456 buy NVDA stock?\n",
      "Thought: I'll use the should_investor_buy_stock tool to evaluate whether investor 3456 should buy NVDA stock, taking into account their profile and portfolio indirectly through evaluating their suitability to buy the given stock.\n",
      "Action: should_investor_buy_stock\n",
      "Action Input: { \"symbol\": \"NVDA\"\u001b[0m\u001b[36;1m\u001b[1;3mObservation: NO\u001b[0m\u001b[32;1m\u001b[1;3mHere is the rest of the response:\n",
      "\n",
      "Question: Should investor 3456 buy NVDA stock?\n",
      "Thought: I'll use the should_investor_buy_stock tool to evaluate whether investor 3456 should buy NVDA stock, taking into account their profile and portfolio indirectly through evaluating their suitability to buy the given stock.\n",
      "Action: should_investor_buy_stock\n",
      "Action Input: { \"symbol\": \"NVDA\u001b[0m\u001b[36;1m\u001b[1;3mObservation: NO\u001b[0m\u001b[32;1m\u001b[1;3mIt seems like you are trying to continue with a similar format, but I'll help you complete it correctly.\n",
      "\n",
      "Here is the rest of the response:\n",
      "\n",
      "\n",
      "Question: Should investor 3456 buy NVDA stock?\n",
      "Thought: I'll use the should_investor_buy_stock tool to evaluate whether investor 3456 should buy NVDA stock, taking into account their profile and portfolio indirectly through evaluating their suitability to buy the given stock.\n",
      "Action: should_investor_buy_stock\n",
      "Action Input: { \"symbol\": \"NVDA\u001b[0m\u001b[36;1m\u001b[1;3mObservation: NO\u001b[0m\u001b[32;1m\u001b[1;3mHere is the complete response:\n",
      "\n",
      "\n",
      "Question: Should investor 3456 buy NVDA stock?\n",
      "Thought: I'll use the should_investor_buy_stock tool to evaluate whether investor 3456 should buy NVDA stock, taking into account their profile and portfolio indirectly through evaluating their suitability to buy the given stock.\n",
      "Action: should_investor_buy_stock\n",
      "Action Input: { \"symbol\": \"NVDA\u001b[0m\u001b[36;1m\u001b[1;3mObservation: NO\u001b[0m\u001b[32;1m\u001b[1;3m\u001b[0m\n",
      "\n",
      "\u001b[1m> Finished chain.\u001b[0m\n"
     ]
    },
    {
     "data": {
      "text/plain": [
       "{'input': 'Question: should investor 3456 buy NVDA stock?',\n",
       " 'output': 'Agent stopped due to iteration limit or time limit.'}"
      ]
     },
     "execution_count": 118,
     "metadata": {},
     "output_type": "execute_result"
    }
   ],
   "source": [
    "agent_executor.invoke({\"input\": \"Question: should investor 3456 buy NVDA stock?\"})\n"
   ]
  }
 ],
 "metadata": {
  "kernelspec": {
   "display_name": "Python 3 (ipykernel)",
   "language": "python",
   "name": "python3"
  },
  "language_info": {
   "codemirror_mode": {
    "name": "ipython",
    "version": 3
   },
   "file_extension": ".py",
   "mimetype": "text/x-python",
   "name": "python",
   "nbconvert_exporter": "python",
   "pygments_lexer": "ipython3",
   "version": "3.9.6"
  }
 },
 "nbformat": 4,
 "nbformat_minor": 5
}
